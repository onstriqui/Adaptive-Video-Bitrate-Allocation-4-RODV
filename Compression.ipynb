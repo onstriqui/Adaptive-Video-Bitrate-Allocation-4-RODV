{
  "nbformat": 4,
  "nbformat_minor": 0,
  "metadata": {
    "colab": {
      "provenance": [],
      "authorship_tag": "ABX9TyMGCpHA+mgQoqq+KBWqR+Sk",
      "include_colab_link": true
    },
    "kernelspec": {
      "name": "python3",
      "display_name": "Python 3"
    },
    "language_info": {
      "name": "python"
    }
  },
  "cells": [
    {
      "cell_type": "markdown",
      "metadata": {
        "id": "view-in-github",
        "colab_type": "text"
      },
      "source": [
        "<a href=\"https://colab.research.google.com/github/onstriqui/Adaptive-Video-Bitrate-Allocation-4-RODV/blob/main/Compression.ipynb\" target=\"_parent\"><img src=\"https://colab.research.google.com/assets/colab-badge.svg\" alt=\"Open In Colab\"/></a>"
      ]
    },
    {
      "cell_type": "markdown",
      "source": [
        "# **The folder that contains the images needs to be on Google Drive in zip format. You'll find it attached. We used the [CAM_FRONT](https://github.com/onstriqui/Adaptive-Video-Bitrate-Allocation-4-RODV/blob/8354314324628228c3a6f45568e124ce63035787/CAM_FRONT.zip) images of the nuScenes dataset (the mini version).**"
      ],
      "metadata": {
        "id": "kpkt4S8wnGKV"
      }
    },
    {
      "cell_type": "markdown",
      "source": [
        "# **1. Mount Google Drive:**"
      ],
      "metadata": {
        "id": "8IT2ix6eLd9I"
      }
    },
    {
      "cell_type": "code",
      "execution_count": null,
      "metadata": {
        "colab": {
          "base_uri": "https://localhost:8080/"
        },
        "id": "pToLmKtSLRZc",
        "outputId": "759bbcba-835c-446c-902d-0dda08c0691c"
      },
      "outputs": [
        {
          "output_type": "stream",
          "name": "stdout",
          "text": [
            "Mounted at /content/drive\n"
          ]
        }
      ],
      "source": [
        "from google.colab import drive\n",
        "drive.mount('/content/drive')"
      ]
    },
    {
      "cell_type": "markdown",
      "source": [
        "# **2. Unzip the Folder in Colab:**"
      ],
      "metadata": {
        "id": "iVIH5V4gLdM3"
      }
    },
    {
      "cell_type": "code",
      "source": [
        "import zipfile\n",
        "\n",
        "# Path to the zipped folder in Google Drive\n",
        "zip_path = '/content/drive/MyDrive/CAM_FRONT.zip'\n",
        "\n",
        "# Destination folder in Colab\n",
        "unzip_dir = '/content/images/'\n",
        "\n",
        "# Unzipping\n",
        "with zipfile.ZipFile(zip_path, 'r') as zip_ref:\n",
        "    zip_ref.extractall(unzip_dir)"
      ],
      "metadata": {
        "id": "mO7H_yAOLZhU"
      },
      "execution_count": null,
      "outputs": []
    },
    {
      "cell_type": "markdown",
      "source": [
        "# **3. Create a Directory to Store Compressed Images:**"
      ],
      "metadata": {
        "id": "4bibEZL1Lnnl"
      }
    },
    {
      "cell_type": "code",
      "source": [
        "compressed_dir = '/content/drive/MyDrive/First_Compression/' #change the directory when choosing different compression rate\n",
        "os.makedirs(compressed_dir, exist_ok=True)"
      ],
      "metadata": {
        "id": "ksINa_PLLmhk"
      },
      "execution_count": null,
      "outputs": []
    },
    {
      "cell_type": "markdown",
      "source": [
        "# **4. Loop Through the Images and Apply Compression:**"
      ],
      "metadata": {
        "id": "nozsbxq_Lqqi"
      }
    },
    {
      "cell_type": "code",
      "source": [
        "import cv2\n",
        "import glob\n",
        "import os\n",
        "\n",
        "dir=unzip_dir+'/CAM_FRONT'\n",
        "# Get a list of all images in the directory\n",
        "image_paths = glob.glob(os.path.join(dir, '*.jpg'))\n",
        "\n",
        "# Loop through images and compress them\n",
        "for img_path in image_paths:\n",
        "    # Read the image\n",
        "    img = cv2.imread(img_path)\n",
        "\n",
        "    # Extract the base name (without extension)\n",
        "    base_name = os.path.splitext(os.path.basename(img_path))[0]\n",
        "\n",
        "    # The output path needs to respect the format 'basename_First_Compression' because we need to be able to associate the image with its compressed version\n",
        "    output_path = os.path.join(compressed_dir, f'{base_name}_First_Compression.jpg') #change when choosing a different compression rate\n",
        "\n",
        "    # Compress and save the image with quality set to 1\n",
        "    cv2.imwrite(output_path, img, [cv2.IMWRITE_JPEG_QUALITY, 1]) #change when choosing a different compression rate"
      ],
      "metadata": {
        "id": "U424W-H8LvjX"
      },
      "execution_count": null,
      "outputs": []
    },
    {
      "cell_type": "markdown",
      "source": [
        "# _**Run the last two cells after modifications to compress the images at a different rate. In the project, we compressed at the rates (1, 3, 5, 10, 15).**_\n",
        "\n",
        "# _**You can add a loop to automate the process if a significant number of compressions is needed.**_"
      ],
      "metadata": {
        "id": "E5H_pG-PqwNp"
      }
    }
  ]
}